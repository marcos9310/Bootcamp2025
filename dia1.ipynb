{
 "cells": [
  {
   "cell_type": "code",
   "execution_count": 2,
   "id": "8182005a",
   "metadata": {},
   "outputs": [
    {
     "name": "stdout",
     "output_type": "stream",
     "text": [
      "Hola mundo\n"
     ]
    }
   ],
   "source": [
    "print(\"Hola mundo\")"
   ]
  },
  {
   "cell_type": "markdown",
   "id": "6170c367",
   "metadata": {},
   "source": [
    "# Variable"
   ]
  },
  {
   "cell_type": "markdown",
   "id": "a75f4385",
   "metadata": {},
   "source": [
    "## Tipos de datos\n",
    "- int - entero - 1\n",
    "- "
   ]
  },
  {
   "cell_type": "markdown",
   "id": "1b4dc7d0",
   "metadata": {},
   "source": [
    "## Operaciones aritmeticas\n",
    "- suma +\n",
    "- resta -\n",
    "- division /\n",
    "- multiplicacion *\n",
    "- division entera //"
   ]
  },
  {
   "cell_type": "code",
   "execution_count": 7,
   "id": "d01f81c6",
   "metadata": {},
   "outputs": [
    {
     "name": "stdout",
     "output_type": "stream",
     "text": [
      "35000\n",
      "30000\n",
      "5066\n"
     ]
    }
   ],
   "source": [
    "# suma\n",
    "precio_total = 15000 + 20000\n",
    "print(precio_total)\n",
    "# resta\n",
    "precio_descuento = precio_total - 5000\n",
    "print(precio_descuento)\n",
    "\n",
    "precio_gaseosa = 19000\n",
    "cantidad_gaseosa = 4\n",
    "cantidad_personas = 15\n",
    "precio_final = precio_gaseosa * cantidad_gaseosa\n",
    "promedio_por_persona = precio_final // cantidad_personas\n",
    "print(promedio_por_persona)"
   ]
  },
  {
   "cell_type": "markdown",
   "id": "df91cd44",
   "metadata": {},
   "source": [
    "# Challenge 1"
   ]
  },
  {
   "cell_type": "code",
   "execution_count": 14,
   "id": "c3621a01",
   "metadata": {},
   "outputs": [
    {
     "name": "stdout",
     "output_type": "stream",
     "text": [
      "35\n",
      "25\n"
     ]
    }
   ],
   "source": [
    "# suma\n",
    "cantidad_de_manzanas = 15\n",
    "cantidad_de_naranjas = 20\n",
    "cantidad_de_frutas = cantidad_de_manzanas + cantidad_de_naranjas\n",
    "\n",
    "print (cantidad_de_frutas)\n",
    "\n",
    "# resta\n",
    "frutas_vendidas = 10\n",
    "frutas_restantes = cantidad_de_frutas - frutas_vendidas\n",
    "\n",
    "print(frutas_restantes)"
   ]
  },
  {
   "cell_type": "markdown",
   "id": "8df817b1",
   "metadata": {},
   "source": [
    "## Concatenar"
   ]
  },
  {
   "cell_type": "code",
   "execution_count": 44,
   "id": "68b896a7",
   "metadata": {},
   "outputs": [
    {
     "name": "stdout",
     "output_type": "stream",
     "text": [
      "Marcos Meza\n",
      "Hola, me llamo Marcos Meza, tengo 31 años y soy de la ciudad de Itaugua.\n"
     ]
    }
   ],
   "source": [
    "nombre = \"Marcos\"\n",
    "apellido = \"Meza\"\n",
    "edad = 31\n",
    "ciudad = \"Itaugua\"\n",
    "\n",
    "nombre_completo = nombre + \" \" + apellido # espacio entre comillas\n",
    "print(nombre_completo)\n",
    "print(f'Hola, me llamo {nombre_completo}, tengo {edad} años y soy de la ciudad de {ciudad}.') # f para hablitar la llave "
   ]
  },
  {
   "cell_type": "markdown",
   "id": "477f421b",
   "metadata": {},
   "source": [
    "# Challenge 2"
   ]
  },
  {
   "cell_type": "code",
   "execution_count": 46,
   "id": "c823fadf",
   "metadata": {},
   "outputs": [
    {
     "name": "stdout",
     "output_type": "stream",
     "text": [
      "Hola. Me llamo Keila Gonzalez. Mucho gusto.\n"
     ]
    }
   ],
   "source": [
    "nombre = \"Keila\"\n",
    "apellido = \"Gonzalez\"\n",
    "print(f'Hola. Me llamo {nombre} {apellido}. Mucho gusto.')"
   ]
  },
  {
   "cell_type": "markdown",
   "id": "f78363ad",
   "metadata": {},
   "source": [
    "## Input"
   ]
  },
  {
   "cell_type": "code",
   "execution_count": 48,
   "id": "b2dc8248",
   "metadata": {},
   "outputs": [
    {
     "name": "stdout",
     "output_type": "stream",
     "text": [
      "marcos\n",
      "7\n"
     ]
    }
   ],
   "source": [
    "nombre = input(\"¿Cuál es tu nombre?\")\n",
    "print(nombre)\n",
    "\n",
    "numero1 = input('dame un numero')\n",
    "numero2 = input('dame otro numero')\n",
    "suma = int(numero1) + int(numero2)\n",
    "print(suma)"
   ]
  },
  {
   "cell_type": "markdown",
   "id": "528ff629",
   "metadata": {},
   "source": [
    "# Challenge 3"
   ]
  },
  {
   "cell_type": "code",
   "execution_count": 51,
   "id": "5f019567",
   "metadata": {},
   "outputs": [
    {
     "name": "stdout",
     "output_type": "stream",
     "text": [
      "10\n"
     ]
    }
   ],
   "source": [
    "numero1 = input('Ingresa un numero')\n",
    "numero2 = input('Ingresa otro numero')\n",
    "suma = int(numero1) + int(numero2)\n",
    "print(suma)"
   ]
  },
  {
   "cell_type": "markdown",
   "id": "5f0512ac",
   "metadata": {},
   "source": [
    "# Función\n",
    "espacio es indentacion"
   ]
  },
  {
   "cell_type": "code",
   "execution_count": 52,
   "id": "1ae903f5",
   "metadata": {},
   "outputs": [
    {
     "name": "stdout",
     "output_type": "stream",
     "text": [
      "Abrir el pan\n",
      "Agregar jamon\n",
      "Agregar queso\n",
      "Cerrar pan\n",
      "Listo\n"
     ]
    }
   ],
   "source": [
    "def preparar_sandwich():\n",
    "    print('Abrir el pan')\n",
    "    print('Agregar jamon')\n",
    "    print('Agregar queso')\n",
    "    print('Cerrar pan')\n",
    "    print('Listo')\n",
    "\n",
    "preparar_sandwich()\n"
   ]
  },
  {
   "cell_type": "markdown",
   "id": "88c1107d",
   "metadata": {},
   "source": [
    "# Challenge 4"
   ]
  },
  {
   "cell_type": "code",
   "execution_count": 56,
   "id": "ccd0a4db",
   "metadata": {},
   "outputs": [
    {
     "name": "stdout",
     "output_type": "stream",
     "text": [
      "1 - Organizar\n",
      "2 - Hacer vaquita\n",
      "3 - Comprar la carne\n",
      "4 - Comprar bebidas\n",
      "5 - Cocinar\n",
      "6 - Compartir\n",
      "1 - Organizar\n",
      "2 - Hacer vaquita\n",
      "3 - Comprar la carne\n",
      "4 - Comprar bebidas\n",
      "5 - Cocinar\n",
      "6 - Compartir\n",
      "1 - Organizar\n",
      "2 - Hacer vaquita\n",
      "3 - Comprar la carne\n",
      "4 - Comprar bebidas\n",
      "5 - Cocinar\n",
      "6 - Compartir\n"
     ]
    }
   ],
   "source": [
    "def preparar_un_asado():\n",
    "    print('1 - Organizar')\n",
    "    print('2 - Hacer vaquita')\n",
    "    print('3 - Comprar la carne')\n",
    "    print('4 - Comprar bebidas')\n",
    "    print('5 - Cocinar')\n",
    "    print('6 - Compartir')\n",
    "\n",
    "preparar_un_asado()\n",
    "preparar_un_asado()\n",
    "preparar_un_asado()"
   ]
  },
  {
   "cell_type": "markdown",
   "id": "ad22a7c0",
   "metadata": {},
   "source": [
    "## Parametros y argumentos"
   ]
  },
  {
   "cell_type": "code",
   "execution_count": 62,
   "id": "adc085d3",
   "metadata": {},
   "outputs": [
    {
     "name": "stdout",
     "output_type": "stream",
     "text": [
      "Aqui tiene su telefono Xiaomi\n",
      "Su capacidad es de 512 GB\n",
      "Es de color rojo\n"
     ]
    }
   ],
   "source": [
    "def elegir_marca_telefono(marca):\n",
    "    print(f\"Aqui tiene su telefono {marca}\")\n",
    "    print(\"Su capacidad es de 512 GB\")\n",
    "    print(\"Es de color rojo\")\n",
    "\n",
    "elegir_marca_telefono(\"Xiaomi\")"
   ]
  },
  {
   "cell_type": "markdown",
   "id": "bbd1a201",
   "metadata": {},
   "source": [
    "# Challenge 5"
   ]
  },
  {
   "cell_type": "code",
   "execution_count": 61,
   "id": "b6a2e9e5",
   "metadata": {},
   "outputs": [
    {
     "name": "stdout",
     "output_type": "stream",
     "text": [
      "Memoria ram 32 gb\n",
      "Bateria duracion de 36 hs\n",
      "Camara sextuple\n",
      "Memoria ram 32 gb\n",
      "Bateria duracion de 36 hs\n",
      "Cargador tipo c\n",
      "Memoria ram 32 gb\n",
      "Bateria duracion de 36 hs\n",
      "Pantalla cuadrada\n"
     ]
    }
   ],
   "source": [
    "def iphone_17(componentes):\n",
    "    print('Memoria ram 32 gb')\n",
    "    print('Bateria duracion de 36 hs')\n",
    "    print(componentes)\n",
    "\n",
    "iphone_17('Camara sextuple')\n",
    "iphone_17('Cargador tipo c')\n",
    "iphone_17('Pantalla cuadrada')\n",
    "    \n",
    "    "
   ]
  },
  {
   "cell_type": "markdown",
   "id": "2b617f55",
   "metadata": {},
   "source": [
    "## Alcance local y global"
   ]
  },
  {
   "cell_type": "code",
   "execution_count": 66,
   "id": "b9ba853a",
   "metadata": {},
   "outputs": [
    {
     "name": "stdout",
     "output_type": "stream",
     "text": [
      "Estoy cocinando carne\n"
     ]
    }
   ],
   "source": [
    "def preparar_comida():\n",
    "    ingrediente = 'carne'\n",
    "    print(f'Estoy cocinando {ingrediente}')\n",
    "\n",
    "preparar_comida()"
   ]
  }
 ],
 "metadata": {
  "kernelspec": {
   "display_name": "Python 3",
   "language": "python",
   "name": "python3"
  },
  "language_info": {
   "codemirror_mode": {
    "name": "ipython",
    "version": 3
   },
   "file_extension": ".py",
   "mimetype": "text/x-python",
   "name": "python",
   "nbconvert_exporter": "python",
   "pygments_lexer": "ipython3",
   "version": "3.12.6"
  }
 },
 "nbformat": 4,
 "nbformat_minor": 5
}
