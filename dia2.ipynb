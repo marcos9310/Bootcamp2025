{
 "cells": [
  {
   "cell_type": "markdown",
   "id": "3f2e1370",
   "metadata": {},
   "source": [
    "# Condicionales"
   ]
  },
  {
   "cell_type": "markdown",
   "id": "3ee228f6",
   "metadata": {},
   "source": [
    "## Operadores de comparación\n",
    "- Mayor >\n",
    "- Menor <\n",
    "- Mayor o igual >=\n",
    "- Menor o igual <=\n",
    "- Es igual ==\n",
    "- Diferente !=\n",
    "\n",
    "## Palabras claves\n",
    "- if (si)\n",
    "- elif (sino si)\n",
    "- else (sino)"
   ]
  },
  {
   "cell_type": "code",
   "execution_count": 4,
   "id": "f31c3b77",
   "metadata": {},
   "outputs": [
    {
     "name": "stdout",
     "output_type": "stream",
     "text": [
      "Es mayor de edad\n"
     ]
    }
   ],
   "source": [
    "edad = 18\n",
    "if edad < 18:\n",
    "    print('Es menor de edad')\n",
    "else:\n",
    "    print('Es mayor de edad')"
   ]
  },
  {
   "cell_type": "code",
   "execution_count": 5,
   "id": "eef28f1d",
   "metadata": {},
   "outputs": [
    {
     "name": "stdout",
     "output_type": "stream",
     "text": [
      "Trabajador\n"
     ]
    }
   ],
   "source": [
    "edad_individuo = 45\n",
    "\n",
    "if edad_individuo < 18:\n",
    "    print('Estuadiante')\n",
    "elif edad_individuo > 65:\n",
    "    print('Jubilado')\n",
    "else:\n",
    "    print('Trabajador')"
   ]
  },
  {
   "cell_type": "markdown",
   "id": "d4d3fd46",
   "metadata": {},
   "source": [
    "# Challenge 1"
   ]
  },
  {
   "cell_type": "code",
   "execution_count": 13,
   "id": "6f184d90",
   "metadata": {},
   "outputs": [
    {
     "name": "stdout",
     "output_type": "stream",
     "text": [
      "Hace lo que quieras\n"
     ]
    }
   ],
   "source": [
    "edad_comprador = int(input('Cual es tu edad?'))\n",
    "\n",
    "if edad_comprador < 18:\n",
    "    print('Juguito nomas')\n",
    "elif edad_comprador >= 21:\n",
    "    print('Hace lo que quieras')\n",
    "else:\n",
    "    print('Podes tomar pero no comprar')\n",
    "\n",
    "\n"
   ]
  },
  {
   "cell_type": "markdown",
   "id": "4a57a61c",
   "metadata": {},
   "source": [
    "## Operadores lógicos\n",
    "- and (y)\n",
    "- or (o)\n",
    "- not (no)"
   ]
  },
  {
   "cell_type": "code",
   "execution_count": 14,
   "id": "85648b2b",
   "metadata": {},
   "outputs": [
    {
     "name": "stdout",
     "output_type": "stream",
     "text": [
      "Jubilado\n"
     ]
    }
   ],
   "source": [
    "edad_persona = 65\n",
    "trabaja = True\n",
    "\n",
    "if edad_persona < 18:\n",
    "    print('Estudiante')\n",
    "elif edad_persona < 65 and trabaja == True:\n",
    "    print('Activa laboralmente')\n",
    "elif edad_persona < 65 and trabaja == False:\n",
    "    print('Desempleado')\n",
    "else:\n",
    "    print('Jubilado')"
   ]
  },
  {
   "cell_type": "code",
   "execution_count": 16,
   "id": "d0877464",
   "metadata": {},
   "outputs": [
    {
     "name": "stdout",
     "output_type": "stream",
     "text": [
      "Activo laboralmente\n"
     ]
    }
   ],
   "source": [
    "def chequear_edad(edad_laboral, trabaja):\n",
    "    if edad_laboral < 18:\n",
    "        print('Estudiante')\n",
    "    elif edad_laboral < 65 and trabaja == True:\n",
    "        print('Activo laboralmente')\n",
    "    elif edad_laboral < 65 and trabaja == False:\n",
    "        print('Desdempleado')\n",
    "    else:\n",
    "        ('Jubilado')\n",
    "\n",
    "chequear_edad(18, True)"
   ]
  },
  {
   "cell_type": "markdown",
   "id": "82a60102",
   "metadata": {},
   "source": [
    "# Challenge 2"
   ]
  },
  {
   "cell_type": "code",
   "execution_count": 81,
   "id": "91429289",
   "metadata": {},
   "outputs": [
    {
     "name": "stdout",
     "output_type": "stream",
     "text": [
      "89 grados celcius\n",
      "Ñamano mba'e\n"
     ]
    }
   ],
   "source": [
    "temperatura =  int(input('Cual es la temperatura de hoy'))\n",
    "print(temperatura, \"grados celcius\")\n",
    "\n",
    "if temperatura >= -10 and temperatura  <= 18:\n",
    "    print('Fresquete')\n",
    "elif temperatura >= 19 and temperatura <= 30:\n",
    "    print(\"Calor'i\")\n",
    "elif temperatura >= 31 and temperatura <= 45:\n",
    "    print('Hakuuu')\n",
    "else:\n",
    "   print(\"Ñamano mba'e\")\n",
    "\n",
    "          "
   ]
  },
  {
   "cell_type": "markdown",
   "id": "495930ea",
   "metadata": {},
   "source": [
    "# Bucles\n",
    "- while (mientras)\n"
   ]
  },
  {
   "cell_type": "code",
   "execution_count": 83,
   "id": "f8eaad10",
   "metadata": {},
   "outputs": [
    {
     "name": "stdout",
     "output_type": "stream",
     "text": [
      "3\n",
      "10\n",
      "numero correcto\n"
     ]
    }
   ],
   "source": [
    "numero_a_adivinar = 10\n",
    "numero = 3\n",
    "\n",
    "while numero != numero_a_adivinar:\n",
    "    numero = int(input('Introduce un numero'))\n",
    "    print(numero)\n",
    "\n",
    "print('numero correcto')"
   ]
  },
  {
   "cell_type": "code",
   "execution_count": 85,
   "id": "8888cbe2",
   "metadata": {},
   "outputs": [
    {
     "name": "stdout",
     "output_type": "stream",
     "text": [
      "Numero incorrecto\n",
      "El numero es correcto\n"
     ]
    }
   ],
   "source": [
    "numero = 10\n",
    "\n",
    "while True:\n",
    "    numero_ingresado = int(input('Introduce un numero'))\n",
    "    if numero_ingresado == numero:\n",
    "        print('El numero es correcto')\n",
    "        break\n",
    "    else:\n",
    "        print('Numero incorrecto')  \n"
   ]
  },
  {
   "cell_type": "markdown",
   "id": "43c4d20c",
   "metadata": {},
   "source": [
    "# Challenge 3"
   ]
  },
  {
   "cell_type": "code",
   "execution_count": null,
   "id": "11c05cd4",
   "metadata": {},
   "outputs": [
    {
     "name": "stdout",
     "output_type": "stream",
     "text": [
      "Indroduzca nuevamente la contrasenha\n",
      "Indroduzca nuevamente la contrasenha\n",
      "Indroduzca nuevamente la contrasenha\n",
      "Bienvenido\n"
     ]
    }
   ],
   "source": [
    "contrasenha = 181920\n",
    "\n",
    "while True:\n",
    "    contrasenha_ingresada = int(input('Ingrese la contrasenha'))\n",
    "    if contrasenha_ingresada == contrasenha:\n",
    "        print(\"Bienvenido a la jungla\")\n",
    "        break\n",
    "    else:\n",
    "        print('Indroduzca nuevamente la contrasenha')"
   ]
  },
  {
   "cell_type": "markdown",
   "id": "8cd3f420",
   "metadata": {},
   "source": [
    "## Listas\n",
    "- entre corchetes y comas"
   ]
  },
  {
   "cell_type": "code",
   "execution_count": null,
   "id": "9e76b699",
   "metadata": {},
   "outputs": [],
   "source": [
    "lista_frutas = ['pera', 'banana', 'manzana']\n",
    "\n",
    "#anhadir\n",
    "lista_frutas.append('kiwi')\n",
    "\n",
    "#modificar\n",
    "lista_frutas[1] = 'durazno'\n",
    "\n",
    "#eliminar\n",
    "lista_frutas.remove('pera')\n",
    "\n",
    "#eliminar por indice\n",
    "lista_frutas.pop(1)\n",
    "\n",
    "#contar\n",
    "print(len(lista_frutas))\n",
    "\n"
   ]
  },
  {
   "cell_type": "markdown",
   "id": "5ca916bb",
   "metadata": {},
   "source": [
    "# Challenge 4"
   ]
  },
  {
   "cell_type": "code",
   "execution_count": 103,
   "id": "11012a55",
   "metadata": {},
   "outputs": [
    {
     "name": "stdout",
     "output_type": "stream",
     "text": [
      "['arroz', 'cafe', 'jugo', 'yerba', 'jamon']\n",
      "['arroz', 'cafe', 'jugo', 'yerba', 'jamon', 'cocido']\n",
      "['arroz', 'pan', 'jugo', 'yerba', 'jamon', 'cocido']\n",
      "['arroz', 'pan', 'yerba', 'jamon', 'cocido']\n",
      "5\n"
     ]
    }
   ],
   "source": [
    "lista_de_compras = ['arroz', 'cafe','jugo','yerba','jamon']\n",
    "print(lista_de_compras)\n",
    "lista_de_compras.append('cocido')\n",
    "print(lista_de_compras)\n",
    "lista_de_compras[1] = 'pan'\n",
    "print(lista_de_compras)\n",
    "lista_de_compras.pop(2)\n",
    "print(lista_de_compras)\n",
    "print(len(lista_de_compras))"
   ]
  },
  {
   "cell_type": "markdown",
   "id": "5376f9ed",
   "metadata": {},
   "source": [
    "## Bucle iterativo\n"
   ]
  },
  {
   "cell_type": "code",
   "execution_count": 105,
   "id": "d9697efd",
   "metadata": {},
   "outputs": [
    {
     "name": "stdout",
     "output_type": "stream",
     "text": [
      "1\n",
      "2\n",
      "3\n",
      "4\n",
      "5\n",
      "6\n",
      "7\n"
     ]
    }
   ],
   "source": [
    "dias = [1,2,3,4,5,6,7]\n",
    "for i in dias:\n",
    "    print(i)"
   ]
  },
  {
   "cell_type": "code",
   "execution_count": 106,
   "id": "3c75105d",
   "metadata": {},
   "outputs": [
    {
     "name": "stdout",
     "output_type": "stream",
     "text": [
      "Hola buen dia\n",
      "Hola buen dia\n",
      "Hola buen dia\n",
      "Hola buen dia\n",
      "Hola buen dia\n"
     ]
    }
   ],
   "source": [
    "for i in range(5):\n",
    "    print('Hola buen dia')"
   ]
  },
  {
   "cell_type": "code",
   "execution_count": 108,
   "id": "90308245",
   "metadata": {},
   "outputs": [
    {
     "name": "stdout",
     "output_type": "stream",
     "text": [
      "lunes\n",
      "martes\n",
      "miercoles\n",
      "jueves\n",
      "viernes\n"
     ]
    }
   ],
   "source": [
    "dias = ['lunes','martes','miercoles','jueves','viernes']\n",
    "for dia in dias:\n",
    "    print(dia)\n"
   ]
  },
  {
   "cell_type": "markdown",
   "id": "5cdddac3",
   "metadata": {},
   "source": [
    "# Challenge 5"
   ]
  },
  {
   "cell_type": "code",
   "execution_count": 122,
   "id": "6e7f03ca",
   "metadata": {},
   "outputs": [
    {
     "name": "stdout",
     "output_type": "stream",
     "text": [
      "2\n",
      "4\n",
      "6\n",
      "8\n",
      "10\n",
      "12\n",
      "14\n",
      "16\n",
      "18\n",
      "20\n"
     ]
    }
   ],
   "source": [
    "for tabla in range(1,11):\n",
    "    print(tabla*2)\n",
    "\n"
   ]
  },
  {
   "cell_type": "markdown",
   "id": "9163a499",
   "metadata": {},
   "source": [
    "# Challenge 6"
   ]
  },
  {
   "cell_type": "code",
   "execution_count": 127,
   "id": "09a55058",
   "metadata": {},
   "outputs": [
    {
     "name": "stdout",
     "output_type": "stream",
     "text": [
      "reebok\n",
      "diadora\n",
      "adidas\n"
     ]
    }
   ],
   "source": [
    "tabla_de_marcas = ['nike','reebok','puma','diadora','puma','adidas']\n",
    "\n",
    "for marca in tabla_de_marcas:\n",
    "    if len(marca) >= 6:\n",
    "        print(marca)"
   ]
  },
  {
   "cell_type": "markdown",
   "id": "fe7ed022",
   "metadata": {},
   "source": [
    "# Challenge 7"
   ]
  },
  {
   "cell_type": "code",
   "execution_count": 152,
   "id": "f76e84be",
   "metadata": {},
   "outputs": [
    {
     "name": "stdout",
     "output_type": "stream",
     "text": [
      "DALE O\n",
      "DALE O\n",
      "DALE O\n",
      "DALE O\n"
     ]
    }
   ],
   "source": [
    "letra = 'o' \n",
    "frase = input('Ingresa una frase')\n",
    "\n",
    "for palabra in frase:\n",
    "    if palabra == letra:\n",
    "        print('DALE O')\n"
   ]
  }
 ],
 "metadata": {
  "kernelspec": {
   "display_name": "Python 3",
   "language": "python",
   "name": "python3"
  },
  "language_info": {
   "codemirror_mode": {
    "name": "ipython",
    "version": 3
   },
   "file_extension": ".py",
   "mimetype": "text/x-python",
   "name": "python",
   "nbconvert_exporter": "python",
   "pygments_lexer": "ipython3",
   "version": "3.12.6"
  }
 },
 "nbformat": 4,
 "nbformat_minor": 5
}
