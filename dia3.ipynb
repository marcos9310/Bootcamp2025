{
 "cells": [
  {
   "cell_type": "code",
   "execution_count": 1,
   "id": "ff1fe18d",
   "metadata": {},
   "outputs": [
    {
     "name": "stdout",
     "output_type": "stream",
     "text": [
      "Hola Mundo\n"
     ]
    }
   ],
   "source": [
    "def imprimir_saludo():\n",
    "    print('Hola Mundo')\n",
    "\n",
    "imprimir_saludo()"
   ]
  },
  {
   "cell_type": "markdown",
   "id": "cab00720",
   "metadata": {},
   "source": [
    "# Challenge 1\n",
    "Crear una función que imprima la variable palabra."
   ]
  },
  {
   "cell_type": "code",
   "execution_count": 5,
   "id": "f843cfb8",
   "metadata": {},
   "outputs": [
    {
     "name": "stdout",
     "output_type": "stream",
     "text": [
      "penguin\n"
     ]
    }
   ],
   "source": [
    "\n",
    "def imprimir():\n",
    "    palabra = 'penguin'\n",
    "    print(palabra)\n",
    "\n",
    "imprimir()\n",
    "\n"
   ]
  },
  {
   "cell_type": "markdown",
   "id": "4e345656",
   "metadata": {},
   "source": [
    "# Challenge 2 \n",
    "Crear una función que reciba dos letras (parámetros) y que verifique si son iguales:\n",
    "\n",
    "Si son iguales, imprimir \"Las letras son iguales\".\n",
    "\n",
    "De lo contrario, imprimir \"Las letras son diferentes\"."
   ]
  },
  {
   "cell_type": "code",
   "execution_count": 10,
   "id": "aefa3aca",
   "metadata": {},
   "outputs": [
    {
     "name": "stdout",
     "output_type": "stream",
     "text": [
      "Las letras son diferentes\n"
     ]
    }
   ],
   "source": [
    "\n",
    "def letras_ingresadas(letra1, letra2):\n",
    "    if letra1 == letra2:\n",
    "        print('Las letras son iguales')\n",
    "    elif letra1 != letra2:\n",
    "        print('Las letras son diferentes')\n",
    "\n",
    "letras_ingresadas('b','a')\n"
   ]
  },
  {
   "cell_type": "code",
   "execution_count": 11,
   "id": "784263ba",
   "metadata": {},
   "outputs": [
    {
     "name": "stdout",
     "output_type": "stream",
     "text": [
      "3\n"
     ]
    }
   ],
   "source": [
    "def sumatoria (numero1,numero2):\n",
    "    sumar = numero1 + numero2\n",
    "    print(sumar)\n",
    "\n",
    "sumatoria(1,2)\n"
   ]
  },
  {
   "cell_type": "code",
   "execution_count": 15,
   "id": "a0fc15bb",
   "metadata": {},
   "outputs": [],
   "source": [
    "suma1 = sumatoria(1,2)\n",
    "total = suma1 + 1"
   ]
  },
  {
   "cell_type": "code",
   "execution_count": 13,
   "id": "0b979479",
   "metadata": {},
   "outputs": [
    {
     "data": {
      "text/plain": [
       "3"
      ]
     },
     "execution_count": 13,
     "metadata": {},
     "output_type": "execute_result"
    }
   ],
   "source": [
    "def sumatoria (numero1,numero2):\n",
    "    sumar = numero1 + numero2\n",
    "    return sumar\n",
    "\n",
    "sumatoria(1,2)"
   ]
  },
  {
   "cell_type": "code",
   "execution_count": 16,
   "id": "1ca3b3a4",
   "metadata": {},
   "outputs": [
    {
     "name": "stdout",
     "output_type": "stream",
     "text": [
      "4\n"
     ]
    }
   ],
   "source": [
    "suma1 = sumatoria(1,2)\n",
    "total = suma1 + 1\n",
    "print(total)"
   ]
  },
  {
   "cell_type": "markdown",
   "id": "d79e43d2",
   "metadata": {},
   "source": [
    "# Challenge 3\n",
    "Crear una función que reciba dos parámetros (una palabra y un número), y que retorne True si el número es igual a la cantidad de letras de la palabra. En caso contrario, que retorne False.\n",
    "\n",
    "Pista: cantidad de letras de una palabra en python"
   ]
  },
  {
   "cell_type": "code",
   "execution_count": 27,
   "id": "2a3bed42",
   "metadata": {},
   "outputs": [
    {
     "data": {
      "text/plain": [
       "True"
      ]
     },
     "execution_count": 27,
     "metadata": {},
     "output_type": "execute_result"
    }
   ],
   "source": [
    "def contador_de_palabras(palabra,numero):\n",
    "    if len(palabra) == numero:\n",
    "        return True\n",
    "    elif len(palabra) != numero:\n",
    "        return False\n",
    "\n",
    "contador_de_palabras('marcos',6)"
   ]
  },
  {
   "cell_type": "code",
   "execution_count": 29,
   "id": "04547ccb",
   "metadata": {},
   "outputs": [
    {
     "data": {
      "text/plain": [
       "False"
      ]
     },
     "execution_count": 29,
     "metadata": {},
     "output_type": "execute_result"
    }
   ],
   "source": [
    "def contar_palabras(palabra,numero):\n",
    "    if len(palabra) == numero:\n",
    "        return True\n",
    "    else:\n",
    "        return False\n",
    "\n",
    "contar_palabras(\"penguin\",6)"
   ]
  },
  {
   "cell_type": "code",
   "execution_count": 30,
   "id": "ead63d20",
   "metadata": {},
   "outputs": [
    {
     "name": "stdout",
     "output_type": "stream",
     "text": [
      "hola\n",
      "marcos\n"
     ]
    }
   ],
   "source": [
    "palabra_a_encontrar = input(\"Ingrese una palabra:\")\n",
    "print(palabra_a_encontrar)\n",
    "\n",
    "palabra_ingresada = input('Ingrese otra palabra')\n",
    "print(palabra_ingresada)\n"
   ]
  },
  {
   "cell_type": "code",
   "execution_count": 36,
   "id": "bd033028",
   "metadata": {},
   "outputs": [
    {
     "name": "stdout",
     "output_type": "stream",
     "text": [
      "['h', 'o', 'l', 'a']\n"
     ]
    }
   ],
   "source": [
    "lista_encontrar = list(palabra_a_encontrar)\n",
    "print(lista_encontrar)\n",
    "\n"
   ]
  },
  {
   "cell_type": "markdown",
   "id": "98d4e32a",
   "metadata": {},
   "source": [
    "# Challenge 4\n",
    "Pedir al usuario que ingrese 1 palabra, luego convertir esa palabra a una lista con sus caracteres con list(). Agregar esa lista de caracteres a una lista llamada palabras_ingresadas. Repetir el proceso 3 veces. Cada vez que se agregue una lista de caracteres, imprimir la lista palabras_ingresadas.\n",
    "\n",
    "\n",
    "Ejemplo del resultado esperado:\n",
    "\n",
    "[['c', 'i', 'e', 'l', 'o']]\n",
    " # Al ingresar la primera palabra\n",
    "\n",
    "[['c', 'i', 'e', 'l', 'o'], ['c', 'a', 'l', 'o', 'r']]\n",
    " # Al ingresar la segunda palabra\n",
    "\n",
    "[['c', 'i', 'e', 'l', 'o'], ['c', 'a', 'l', 'o', 'r'], ['n', 'u', 'b', 'e', 's']]\n",
    " # Al ingresar la tercera palabra"
   ]
  },
  {
   "cell_type": "code",
   "execution_count": 54,
   "id": "2cfb6a3d",
   "metadata": {},
   "outputs": [
    {
     "name": "stdout",
     "output_type": "stream",
     "text": [
      "[['c', 'o', 'c', 'a']]\n",
      "[['c', 'o', 'c', 'a'], ['c', 'o', 'l', 'a']]\n",
      "[['c', 'o', 'c', 'a'], ['c', 'o', 'l', 'a'], ['h', 'i', 'e', 'l', 'o']]\n"
     ]
    }
   ],
   "source": [
    "lista_de_listas = []\n",
    "\n",
    "palabra = input('Ingrese una palabra')\n",
    "lista = list(palabra)\n",
    "lista_de_listas.append(lista)\n",
    "print(lista_de_listas)\n",
    "\n",
    "palabra1 = input('Ingrese otra palabra')\n",
    "lista1 = list(palabra1)\n",
    "lista_de_listas.append(lista1)\n",
    "print(lista_de_listas)\n",
    "\n",
    "palabra2 = input('Ingrese otra palabra')\n",
    "lista2 = list(palabra2)\n",
    "lista_de_listas.append(lista2)\n",
    "print(lista_de_listas)\n"
   ]
  },
  {
   "cell_type": "markdown",
   "id": "66200c0b",
   "metadata": {},
   "source": [
    "# Challenge 5\n",
    "Dada la lista de ejemplo: \n",
    "\n",
    "lista = [['h', 'o', 'l', 'i', 's'], ['h', 'e', 'l', 'l', 'o'], ['h', 'a', 'l', 'l', 'o']]\n",
    "\n",
    "Crear una función que imprima una grilla (lista de listas), una línea por cada lista dentro de la lista principal.\n",
    "\n",
    "Ejemplo del resultado esperado:\n",
    "\n",
    "['h', 'o', 'l', 'i', 's']\n",
    "['h', 'e', 'l', 'l', 'o']\n",
    "['h', 'a', 'l', 'l', 'o']"
   ]
  },
  {
   "cell_type": "code",
   "execution_count": 65,
   "id": "3eff96c0",
   "metadata": {},
   "outputs": [
    {
     "name": "stdout",
     "output_type": "stream",
     "text": [
      "['h', 'o', 'l', 'i', 's']\n",
      "['h', 'e', 'l', 'l', 'o']\n",
      "['h', 'a', 'l', 'l', 'o']\n"
     ]
    }
   ],
   "source": [
    "lista = [['h', 'o', 'l', 'i', 's'], ['h', 'e', 'l', 'l', 'o'], ['h', 'a', 'l', 'l', 'o']]\n",
    "\n",
    "def imprimir_lista(lista):\n",
    "    for lista_a_imprimir in lista:\n",
    "        print(lista_a_imprimir)\n",
    "\n",
    "imprimir_lista(lista)\n",
    "\n"
   ]
  },
  {
   "cell_type": "markdown",
   "id": "de3beef9",
   "metadata": {},
   "source": [
    "# Challenge 6\n",
    "\n",
    "- Iniciar juego\n",
    "- Definir palabra_a_encontrar\n",
    "- Definir cantidad de letras\n",
    "- definir intentos\n",
    "- crear grilla vacia(lista para mostrar el progreso)\n"
   ]
  },
  {
   "cell_type": "code",
   "execution_count": 126,
   "id": "ae91a954",
   "metadata": {},
   "outputs": [
    {
     "name": "stdout",
     "output_type": "stream",
     "text": [
      "Inciando\n",
      "te quedan 4 intentos\n",
      "['m', 'a', 'r', 'c', '[o]', 's']\n",
      "te quedan 3 intentos\n",
      "['m', 'a', 'r', 'c', '[o]', 's']\n",
      "['[p]', '(o)', 'r', 'q', 'u', 'e']\n",
      "te quedan 2 intentos\n",
      "['m', 'a', 'r', 'c', '[o]', 's']\n",
      "['[p]', '(o)', 'r', 'q', 'u', 'e']\n",
      "['k', 'e', 'k', 'e', 'k', 'e']\n",
      "Acertaste la palabra era ['p', 'y', 't', 'h', 'o', 'n']\n"
     ]
    }
   ],
   "source": [
    "print('Inciando')\n",
    "\n",
    "palabra_a_encontrar=list('python')\n",
    "cantidad_de_letras=len(palabra_a_encontrar)\n",
    "intentos=5\n",
    "grilla_vacia=[]\n",
    "\n",
    "while intentos>0:\n",
    "    palabra_ingresada=list(input('Ingrese su palabra'))\n",
    "    if len(palabra_ingresada)!=cantidad_de_letras:\n",
    "        print('La palabra ingresada tiene mas o menos letras que las requeridas')\n",
    "\n",
    "    if palabra_a_encontrar == palabra_ingresada:\n",
    "        print(f'Acertaste la palabra era {palabra_a_encontrar}')\n",
    "        break\n",
    "    else:\n",
    "        for posicion in range(cantidad_de_letras):\n",
    "            if palabra_a_encontrar[posicion]==palabra_ingresada[posicion]:\n",
    "                letra_acertada=('[' + palabra_ingresada[posicion]+ ']')\n",
    "                palabra_ingresada[posicion]=letra_acertada\n",
    "\n",
    "        for posicion in range(cantidad_de_letras):\n",
    "            if palabra_ingresada[posicion] in palabra_a_encontrar:\n",
    "                letra_existe=('(' + palabra_ingresada[posicion]+ ')') \n",
    "                palabra_ingresada[posicion]=letra_existe\n",
    "        grilla_vacia.append(palabra_ingresada)\n",
    "        intentos-=1\n",
    "        print(f'te quedan {intentos} intentos')\n",
    "        for i in grilla_vacia:\n",
    "            print(i)"
   ]
  }
 ],
 "metadata": {
  "kernelspec": {
   "display_name": "Python 3",
   "language": "python",
   "name": "python3"
  },
  "language_info": {
   "codemirror_mode": {
    "name": "ipython",
    "version": 3
   },
   "file_extension": ".py",
   "mimetype": "text/x-python",
   "name": "python",
   "nbconvert_exporter": "python",
   "pygments_lexer": "ipython3",
   "version": "3.12.6"
  }
 },
 "nbformat": 4,
 "nbformat_minor": 5
}
