{
 "cells": [
  {
   "cell_type": "markdown",
   "id": "96fa2f91",
   "metadata": {},
   "source": [
    "# Repaso"
   ]
  },
  {
   "cell_type": "code",
   "execution_count": 3,
   "id": "f3c41cf2",
   "metadata": {},
   "outputs": [
    {
     "name": "stdout",
     "output_type": "stream",
     "text": [
      "El cliente quiere un auto de la marca kia modelo picanto y el precio de 10000 USD\n"
     ]
    }
   ],
   "source": [
    "def compra_de_autos(precio,marca,modelo):\n",
    "    print((f'El cliente quiere un auto de la marca {marca} modelo {modelo} y el precio de {precio} USD'))\n",
    "\n",
    "compra_de_autos(10000,'kia','picanto')"
   ]
  },
  {
   "cell_type": "code",
   "execution_count": 5,
   "id": "415cf3aa",
   "metadata": {},
   "outputs": [
    {
     "name": "stdout",
     "output_type": "stream",
     "text": [
      "3\n",
      "6\n"
     ]
    }
   ],
   "source": [
    "def suma(num1 , num2):\n",
    "    resultado = num1 + num2\n",
    "    return resultado\n",
    "\n",
    "resultado_suma = suma(1,2)\n",
    "print(resultado_suma)\n",
    "multiplicar = resultado_suma*2\n",
    "print(multiplicar)"
   ]
  },
  {
   "cell_type": "code",
   "execution_count": 7,
   "id": "1e61f348",
   "metadata": {},
   "outputs": [
    {
     "name": "stdout",
     "output_type": "stream",
     "text": [
      "False\n",
      "Numero 1 no es mayor\n"
     ]
    }
   ],
   "source": [
    "numero1 = 10\n",
    "numero2 = 15\n",
    "\n",
    "mayor_que = numero1 > numero2\n",
    "print(mayor_que)\n",
    "\n",
    "if mayor_que:\n",
    "    print('el numero 1 es mayor al numero 2')\n",
    "else:\n",
    "    print('Numero 1 no es mayor')"
   ]
  },
  {
   "cell_type": "code",
   "execution_count": 8,
   "id": "98e49ebe",
   "metadata": {},
   "outputs": [
    {
     "name": "stdout",
     "output_type": "stream",
     "text": [
      "podes tomar pero no comprar\n"
     ]
    }
   ],
   "source": [
    "edad = 18\n",
    "\n",
    "if edad < 18:\n",
    "    print('juguito nomas')\n",
    "elif edad < 21:\n",
    "    print('podes tomar pero no comprar')\n",
    "else:\n",
    "    print('hace lo que quieras')"
   ]
  },
  {
   "cell_type": "code",
   "execution_count": null,
   "id": "7bb8f36c",
   "metadata": {},
   "outputs": [
    {
     "name": "stdout",
     "output_type": "stream",
     "text": [
      "Contrasenha\n"
     ]
    }
   ],
   "source": [
    "contrasenha = 'pinguino123'\n",
    "contrasenha_usuario = input('Escribi la contrasenha')\n",
    "\n",
    "while contrasenha != contrasenha_usuario:\n",
    "    contrasenha_usuario = input('Escribi la contrasenha')\n",
    "print('Contrasenha correcta')"
   ]
  },
  {
   "cell_type": "code",
   "execution_count": 14,
   "id": "996e7c1b",
   "metadata": {},
   "outputs": [
    {
     "name": "stdout",
     "output_type": "stream",
     "text": [
      "['Renzo', 'Oliver', 'Jimena', 'Matias']\n",
      "['Renzo', 'Oliver', 'Jimena', 'Matias']\n",
      "['Renzo', 'Oliver', 'Jimena', 'Matias']\n",
      "['Renzo', 'Oliver', 'Jimena', 'Matias']\n"
     ]
    }
   ],
   "source": [
    "participantes = ['Renzo','Oliver','Jimena','Matias']\n",
    "\n",
    "for individuo in participantes:\n",
    "    print(participantes)\n"
   ]
  },
  {
   "cell_type": "code",
   "execution_count": null,
   "id": "7a7cc85b",
   "metadata": {},
   "outputs": [],
   "source": []
  }
 ],
 "metadata": {
  "kernelspec": {
   "display_name": "Python 3",
   "language": "python",
   "name": "python3"
  },
  "language_info": {
   "codemirror_mode": {
    "name": "ipython",
    "version": 3
   },
   "file_extension": ".py",
   "mimetype": "text/x-python",
   "name": "python",
   "nbconvert_exporter": "python",
   "pygments_lexer": "ipython3",
   "version": "3.12.6"
  }
 },
 "nbformat": 4,
 "nbformat_minor": 5
}
