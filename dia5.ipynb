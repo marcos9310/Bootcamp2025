{
 "cells": [
  {
   "cell_type": "code",
   "execution_count": null,
   "id": "ae26faf6",
   "metadata": {},
   "outputs": [],
   "source": [
    "\n",
    "mi_contacto = {\"nombre\":\"marcos\"}\n",
    "\n",
    "\n",
    "#acceder al dato\n",
    "\n",
    "mi_contacto['nombre']\n",
    "\n",
    "# desplegar datos del diccionario\n",
    "\n",
    "mi_contacto.keys()\n",
    "mi_contacto.values()\n",
    "mi_contacto.items()\n",
    "\n",
    "\n",
    "#modifcar\n",
    "\n",
    "mi_contacto['celular'] = 992222333\n",
    "print(mi_contacto)\n",
    "\n",
    "#eliminar ultimo par\n",
    "\n",
    "mi_contacto.popitem()\n",
    "print(mi_contacto)\n",
    "\n",
    "#eliminar datos por clave\n",
    "\n",
    "del mi_contacto(edad)\n"
   ]
  },
  {
   "cell_type": "markdown",
   "id": "757dbbed",
   "metadata": {},
   "source": [
    "# Challenge"
   ]
  },
  {
   "cell_type": "code",
   "execution_count": 12,
   "id": "ad46b738",
   "metadata": {},
   "outputs": [
    {
     "name": "stdout",
     "output_type": "stream",
     "text": [
      "{'nombre': 'marcos'}\n",
      "{'nombre': 'marcos', 'edad': '31'}\n",
      "{'nombre': 'marcos', 'edad': '31', 'sexo': 'masculino'}\n",
      "{'nombre': 'marcos', 'edad': '31', 'sexo': 'masculino', 'telefono': '991432696'}\n",
      "{'nombre': 'marcos', 'edad': '31', 'sexo': 'masculino', 'telefono': '991432696', 'mezabenitezmarcos@gmail.com': 'mezabenitezmarcos@gmail.com'}\n"
     ]
    }
   ],
   "source": [
    "contacto = {}\n",
    "nombre = input('Ingrese su nombre')\n",
    "contacto['nombre'] = nombre\n",
    "print(contacto)\n",
    "\n",
    "edad = input('Ingrese su edad')\n",
    "contacto['edad'] = edad\n",
    "print(contacto)\n",
    "\n",
    "sexo = input('Ingrese su sexo')\n",
    "contacto['sexo'] = sexo\n",
    "print(contacto)\n",
    "\n",
    "telefono = input('Ingrese su telefono')\n",
    "contacto['telefono'] = telefono\n",
    "print(contacto)\n",
    "\n",
    "correo = input('Ingrese su correo electronico')\n",
    "contacto[correo] = correo\n",
    "print(contacto)\n"
   ]
  },
  {
   "cell_type": "code",
   "execution_count": 14,
   "id": "a37fb951",
   "metadata": {},
   "outputs": [
    {
     "data": {
      "text/plain": [
       "dict_items([('nombre', ''), ('edad', ''), ('sexo', 'marcoas'), ('telefono', '31'), ('masculino', 'masculino')])"
      ]
     },
     "execution_count": 14,
     "metadata": {},
     "output_type": "execute_result"
    }
   ],
   "source": [
    "contacto = {}\n",
    "nombre = input('Ingrese su nombre')\n",
    "contacto['nombre'] = nombre\n",
    "\n",
    "edad = input('Ingrese su edad')\n",
    "contacto['edad'] = edad\n",
    "\n",
    "sexo = input('Ingrese su sexo')\n",
    "contacto['sexo'] = sexo\n",
    "\n",
    "telefono = input('Ingrese su telefono')\n",
    "contacto['telefono'] = telefono\n",
    "\n",
    "correo = input('Ingrese su correo electronico')\n",
    "contacto[correo] = correo\n",
    "\n",
    "contacto.items()"
   ]
  },
  {
   "cell_type": "markdown",
   "id": "f4afee2c",
   "metadata": {},
   "source": [
    "# Challenge 2\n",
    "Crear una tarjeta personal. El usuario (mediante input) puede elegir:\n",
    "\n",
    "1 - Crear datos nuevos\n",
    "2 - Modificar datos\n",
    "3 - Eliminar datos"
   ]
  },
  {
   "cell_type": "code",
   "execution_count": null,
   "id": "42eb83c9",
   "metadata": {},
   "outputs": [
    {
     "name": "stdout",
     "output_type": "stream",
     "text": [
      "{'nombre': 'marcos'}\n"
     ]
    }
   ],
   "source": [
    "tarjeta_personal = {}\n",
    "\n",
    "\n",
    "while True:\n",
    "    datos = int(input('Elegi una opcion'))\n",
    "    if datos == 1:\n",
    "        clave = input('Ingrese clave')\n",
    "        valor = input('Ingrese valor')\n",
    "        tarjeta_personal[clave] = valor\n",
    "        print(tarjeta_personal)\n",
    "    elif datos == 2:\n",
    "        clave = input('Ingrese clave')\n",
    "        valor = input('Ingrese valor')\n",
    "        tarjeta_personal[clave] = valor\n",
    "        print(tarjeta_personal)\n",
    "    elif datos == 3:\n",
    "        clave = input('Ingrese clave')\n",
    "        del tarjeta_personal[clave]\n",
    "        print(tarjeta_personal)\n",
    "    else:\n",
    "        'Ingresa otra opcion'\n",
    "\n",
    "   "
   ]
  },
  {
   "cell_type": "markdown",
   "id": "fd161f36",
   "metadata": {},
   "source": [
    "# Challenge"
   ]
  },
  {
   "cell_type": "code",
   "execution_count": null,
   "id": "7506566e",
   "metadata": {},
   "outputs": [
    {
     "name": "stdout",
     "output_type": "stream",
     "text": [
      "{'contacto': 'numero'}\n"
     ]
    }
   ],
   "source": [
    "agenda_de_contactos = {\"contacto\":{'nombre':'marcos',\n",
    "                                   'numero': 991432696}}\n",
    "\n",
    "agenda_de_contactos.items()\n",
    "\n",
    "agregar_contacto = input\n",
    "\n",
    "nombre = input('Ingrese nombre')\n",
    "valor = input('Ingrese valor')\n",
    "agenda_de_contactos['contacto'] = valor\n",
    "print(agenda_de_contactos)\n",
    "\n",
    "\n"
   ]
  },
  {
   "cell_type": "code",
   "execution_count": null,
   "id": "81c54034",
   "metadata": {},
   "outputs": [],
   "source": [
    "agenda_de_contactos = {\"contacto\":{'nombre':'marcos',\n",
    "                                   'numero': 991432696}}\n",
    "\n",
    "while True:\n",
    "    opcion = int(input('Elegi una opcion 1 - Mostrar contactos - 2 - Crear contactos 3 - Modificar contacto'))\n",
    "    if opcion == 1:\n",
    "        print(agenda_de_contactos)\n",
    "    elif opcion == 2:\n",
    "        clave = input('Ingrese nombre')\n",
    "        valor = clave\n",
    "        agenda_de_contactos[clave] = valor\n",
    "        print(tarjeta_personal)\n",
    "    elif datos == 3:\n",
    "        clave = input('Ingrese clave')\n",
    "        del tarjeta_personal[clave]\n",
    "        print(tarjeta_personal)\n",
    "    else:\n",
    "        'Ingresa otra opcion'"
   ]
  },
  {
   "cell_type": "code",
   "execution_count": 47,
   "id": "4be0bd2b",
   "metadata": {},
   "outputs": [
    {
     "name": "stdout",
     "output_type": "stream",
     "text": [
      "caniche negro\n"
     ]
    }
   ],
   "source": [
    "class Perro:\n",
    "    ojos = 2\n",
    "    brazos = 2\n",
    "\n",
    "    def __init__(self, color , raza):\n",
    "        self.color = color\n",
    "        self.raza = raza\n",
    "    \n",
    "    def ladrido(self):\n",
    "        print(\"guau guau\")\n",
    "    def caminar(self):\n",
    "        print('camino dando saltitos')\n",
    "\n",
    "yuwa = Perro('negro','caniche')\n",
    "\n",
    "print(yuwa.raza , yuwa.color)\n",
    "\n"
   ]
  },
  {
   "cell_type": "markdown",
   "id": "60e3ec11",
   "metadata": {},
   "source": [
    "# Challenge 🤺\n",
    "Crear dos métodos para nuestro animal y ejecutar, debe ser algo específico de ese animal.\n",
    "\n",
    "Ejemplo: \"Cuando hablo, digo X\".\n",
    "Ejemplo: \"Cuando me muevo, hago X\"."
   ]
  },
  {
   "cell_type": "code",
   "execution_count": 71,
   "id": "8c6f489f",
   "metadata": {},
   "outputs": [
    {
     "data": {
      "text/plain": [
       "'grande'"
      ]
     },
     "execution_count": 71,
     "metadata": {},
     "output_type": "execute_result"
    }
   ],
   "source": [
    "class Perro:\n",
    "    orejas = 2\n",
    "    patas = 2\n",
    "    \n",
    "    def __init__(self, color , raza):\n",
    "        self.color = color\n",
    "        self.raza = raza\n",
    "\n",
    "    def saltar(self):\n",
    "        return\"saltando\"\n",
    "    def tamanho(self):\n",
    "        return\"grande\"\n",
    "\n",
    "rompe = Perro('negro','pitwul')\n",
    "\n",
    "rompe.tamanho()"
   ]
  },
  {
   "cell_type": "markdown",
   "id": "7f30447e",
   "metadata": {},
   "source": [
    "# Challenge\n",
    "Definir una clase madre que herede a sus clases hijas dos atributos de instancia. Mostrar ambos atributos en pantalla desde los objetos de las clases hijas.\n",
    "\n",
    "Observación: Editar las clases hijas para que no se inicialicen"
   ]
  },
  {
   "cell_type": "code",
   "execution_count": null,
   "id": "be54212e",
   "metadata": {},
   "outputs": [
    {
     "name": "stdout",
     "output_type": "stream",
     "text": [
      "El perrito es de la raza pitwul y de color negro.\n"
     ]
    }
   ],
   "source": [
    "class Perrito(Perro):\n",
    "    cola = 1\n",
    "\n",
    "    def comer(self):\n",
    "        return'come mucho'\n",
    "\n",
    "rompedos = Perrito('negro','pitwul')\n",
    "\n",
    "print(f'El perrito es de la raza {rompedos.raza} y de color {rompedos.color}.')\n"
   ]
  },
  {
   "cell_type": "code",
   "execution_count": 89,
   "id": "8a5b8f9c",
   "metadata": {},
   "outputs": [
    {
     "data": {
      "text/plain": [
       "'come mucho'"
      ]
     },
     "execution_count": 89,
     "metadata": {},
     "output_type": "execute_result"
    }
   ],
   "source": [
    "class Perrito(Perro):\n",
    "    cola = 1\n",
    "\n",
    "    def comer(self):\n",
    "        return'come mucho'\n",
    "\n",
    "rompedos = Perrito('negro','pitwul')\n",
    "\n",
    "rompedos.color\n",
    "rompedos.comer()"
   ]
  },
  {
   "cell_type": "code",
   "execution_count": 93,
   "id": "e3fa1c22",
   "metadata": {},
   "outputs": [
    {
     "name": "stdout",
     "output_type": "stream",
     "text": [
      "El perrito es de la raza pitwul y de color negro.\n"
     ]
    }
   ],
   "source": [
    "class Perrito(Perro):\n",
    "    cola = 1\n",
    "  \n",
    "rompedos = Perrito('negro','pitwul')\n",
    "\n",
    "print(f'El perrito es de la raza {rompedos.raza} y de color {rompedos.color}.')"
   ]
  }
 ],
 "metadata": {
  "kernelspec": {
   "display_name": "Python 3",
   "language": "python",
   "name": "python3"
  },
  "language_info": {
   "codemirror_mode": {
    "name": "ipython",
    "version": 3
   },
   "file_extension": ".py",
   "mimetype": "text/x-python",
   "name": "python",
   "nbconvert_exporter": "python",
   "pygments_lexer": "ipython3",
   "version": "3.12.6"
  }
 },
 "nbformat": 4,
 "nbformat_minor": 5
}
